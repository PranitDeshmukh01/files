{
 "cells": [
  {
   "cell_type": "code",
   "execution_count": 2,
   "id": "5a29fec0-c599-44aa-95d6-8d30d1495193",
   "metadata": {},
   "outputs": [],
   "source": [
    "import pandas as pd\n",
    "import numpy as np\n",
    "import matplotlib.pyplot as plt\n",
    "import seaborn as sns\n",
    "from sklearn.linear_model import LogisticRegression\n",
    "from sklearn.metrics import confusion_matrix,accuracy_score\n",
    "from sklearn.model_selection import train_test_split\n",
    "from sklearn.datasets import load_digits"
   ]
  },
  {
   "cell_type": "code",
   "execution_count": 3,
   "id": "9d6835b0-c08c-46be-a1e7-4ddc04b3fa40",
   "metadata": {},
   "outputs": [],
   "source": [
    "digit=load_digits()"
   ]
  },
  {
   "cell_type": "code",
   "execution_count": 4,
   "id": "cc3e41b0-e141-48a9-97f6-e32991108853",
   "metadata": {},
   "outputs": [],
   "source": [
    "x=digit.data\n",
    "y=digit.target"
   ]
  },
  {
   "cell_type": "code",
   "execution_count": 7,
   "id": "77b9aad0-dfd2-4ac3-9fb8-219487df4378",
   "metadata": {},
   "outputs": [],
   "source": [
    "xtr,xte,ytr,yte=train_test_split(x,y,train_size=0.75,random_state=10)"
   ]
  },
  {
   "cell_type": "code",
   "execution_count": 8,
   "id": "d8d4463a-6cca-4ebb-8996-bf6638f034fb",
   "metadata": {},
   "outputs": [],
   "source": [
    "Model=LogisticRegression()"
   ]
  },
  {
   "cell_type": "code",
   "execution_count": 9,
   "id": "4fc35e5b-0cdb-4631-9adc-fc0b4ae275bf",
   "metadata": {},
   "outputs": [
    {
     "name": "stderr",
     "output_type": "stream",
     "text": [
      "C:\\Users\\deshm\\AppData\\Local\\Programs\\Python\\Python312\\Lib\\site-packages\\sklearn\\linear_model\\_logistic.py:460: ConvergenceWarning: lbfgs failed to converge (status=1):\n",
      "STOP: TOTAL NO. of ITERATIONS REACHED LIMIT.\n",
      "\n",
      "Increase the number of iterations (max_iter) or scale the data as shown in:\n",
      "    https://scikit-learn.org/stable/modules/preprocessing.html\n",
      "Please also refer to the documentation for alternative solver options:\n",
      "    https://scikit-learn.org/stable/modules/linear_model.html#logistic-regression\n",
      "  n_iter_i = _check_optimize_result(\n"
     ]
    },
    {
     "data": {
      "text/html": [
       "<style>#sk-container-id-1 {color: black;}#sk-container-id-1 pre{padding: 0;}#sk-container-id-1 div.sk-toggleable {background-color: white;}#sk-container-id-1 label.sk-toggleable__label {cursor: pointer;display: block;width: 100%;margin-bottom: 0;padding: 0.3em;box-sizing: border-box;text-align: center;}#sk-container-id-1 label.sk-toggleable__label-arrow:before {content: \"▸\";float: left;margin-right: 0.25em;color: #696969;}#sk-container-id-1 label.sk-toggleable__label-arrow:hover:before {color: black;}#sk-container-id-1 div.sk-estimator:hover label.sk-toggleable__label-arrow:before {color: black;}#sk-container-id-1 div.sk-toggleable__content {max-height: 0;max-width: 0;overflow: hidden;text-align: left;background-color: #f0f8ff;}#sk-container-id-1 div.sk-toggleable__content pre {margin: 0.2em;color: black;border-radius: 0.25em;background-color: #f0f8ff;}#sk-container-id-1 input.sk-toggleable__control:checked~div.sk-toggleable__content {max-height: 200px;max-width: 100%;overflow: auto;}#sk-container-id-1 input.sk-toggleable__control:checked~label.sk-toggleable__label-arrow:before {content: \"▾\";}#sk-container-id-1 div.sk-estimator input.sk-toggleable__control:checked~label.sk-toggleable__label {background-color: #d4ebff;}#sk-container-id-1 div.sk-label input.sk-toggleable__control:checked~label.sk-toggleable__label {background-color: #d4ebff;}#sk-container-id-1 input.sk-hidden--visually {border: 0;clip: rect(1px 1px 1px 1px);clip: rect(1px, 1px, 1px, 1px);height: 1px;margin: -1px;overflow: hidden;padding: 0;position: absolute;width: 1px;}#sk-container-id-1 div.sk-estimator {font-family: monospace;background-color: #f0f8ff;border: 1px dotted black;border-radius: 0.25em;box-sizing: border-box;margin-bottom: 0.5em;}#sk-container-id-1 div.sk-estimator:hover {background-color: #d4ebff;}#sk-container-id-1 div.sk-parallel-item::after {content: \"\";width: 100%;border-bottom: 1px solid gray;flex-grow: 1;}#sk-container-id-1 div.sk-label:hover label.sk-toggleable__label {background-color: #d4ebff;}#sk-container-id-1 div.sk-serial::before {content: \"\";position: absolute;border-left: 1px solid gray;box-sizing: border-box;top: 0;bottom: 0;left: 50%;z-index: 0;}#sk-container-id-1 div.sk-serial {display: flex;flex-direction: column;align-items: center;background-color: white;padding-right: 0.2em;padding-left: 0.2em;position: relative;}#sk-container-id-1 div.sk-item {position: relative;z-index: 1;}#sk-container-id-1 div.sk-parallel {display: flex;align-items: stretch;justify-content: center;background-color: white;position: relative;}#sk-container-id-1 div.sk-item::before, #sk-container-id-1 div.sk-parallel-item::before {content: \"\";position: absolute;border-left: 1px solid gray;box-sizing: border-box;top: 0;bottom: 0;left: 50%;z-index: -1;}#sk-container-id-1 div.sk-parallel-item {display: flex;flex-direction: column;z-index: 1;position: relative;background-color: white;}#sk-container-id-1 div.sk-parallel-item:first-child::after {align-self: flex-end;width: 50%;}#sk-container-id-1 div.sk-parallel-item:last-child::after {align-self: flex-start;width: 50%;}#sk-container-id-1 div.sk-parallel-item:only-child::after {width: 0;}#sk-container-id-1 div.sk-dashed-wrapped {border: 1px dashed gray;margin: 0 0.4em 0.5em 0.4em;box-sizing: border-box;padding-bottom: 0.4em;background-color: white;}#sk-container-id-1 div.sk-label label {font-family: monospace;font-weight: bold;display: inline-block;line-height: 1.2em;}#sk-container-id-1 div.sk-label-container {text-align: center;}#sk-container-id-1 div.sk-container {/* jupyter's `normalize.less` sets `[hidden] { display: none; }` but bootstrap.min.css set `[hidden] { display: none !important; }` so we also need the `!important` here to be able to override the default hidden behavior on the sphinx rendered scikit-learn.org. See: https://github.com/scikit-learn/scikit-learn/issues/21755 */display: inline-block !important;position: relative;}#sk-container-id-1 div.sk-text-repr-fallback {display: none;}</style><div id=\"sk-container-id-1\" class=\"sk-top-container\"><div class=\"sk-text-repr-fallback\"><pre>LogisticRegression()</pre><b>In a Jupyter environment, please rerun this cell to show the HTML representation or trust the notebook. <br />On GitHub, the HTML representation is unable to render, please try loading this page with nbviewer.org.</b></div><div class=\"sk-container\" hidden><div class=\"sk-item\"><div class=\"sk-estimator sk-toggleable\"><input class=\"sk-toggleable__control sk-hidden--visually\" id=\"sk-estimator-id-1\" type=\"checkbox\" checked><label for=\"sk-estimator-id-1\" class=\"sk-toggleable__label sk-toggleable__label-arrow\">LogisticRegression</label><div class=\"sk-toggleable__content\"><pre>LogisticRegression()</pre></div></div></div></div></div>"
      ],
      "text/plain": [
       "LogisticRegression()"
      ]
     },
     "execution_count": 9,
     "metadata": {},
     "output_type": "execute_result"
    }
   ],
   "source": [
    "Model.fit(xtr,ytr)"
   ]
  },
  {
   "cell_type": "code",
   "execution_count": 11,
   "id": "b9295aa4-ebbb-4b60-b1ae-ef0b8519bb8a",
   "metadata": {},
   "outputs": [
    {
     "data": {
      "text/plain": [
       "1.0"
      ]
     },
     "execution_count": 11,
     "metadata": {},
     "output_type": "execute_result"
    }
   ],
   "source": [
    "Model.score(xtr,ytr)"
   ]
  },
  {
   "cell_type": "code",
   "execution_count": 72,
   "id": "01fa1119-c124-463e-a10d-e22ea9a75aa6",
   "metadata": {},
   "outputs": [],
   "source": [
    "ypred1=Model.predict(xte)"
   ]
  },
  {
   "cell_type": "code",
   "execution_count": 15,
   "id": "272a2f8a-9d75-4002-aa24-49161ec9ace0",
   "metadata": {},
   "outputs": [
    {
     "data": {
      "text/plain": [
       "0.9555555555555556"
      ]
     },
     "execution_count": 15,
     "metadata": {},
     "output_type": "execute_result"
    }
   ],
   "source": [
    "accuracy_score(yte,ypred)"
   ]
  },
  {
   "cell_type": "code",
   "execution_count": 29,
   "id": "65c472a1-9aaf-46ca-8623-30cfaabc32f0",
   "metadata": {},
   "outputs": [],
   "source": [
    "df=pd.DataFrame(digit.data)"
   ]
  },
  {
   "cell_type": "code",
   "execution_count": 31,
   "id": "cb0f457d-dc77-474b-b3c9-819fc53db6fd",
   "metadata": {},
   "outputs": [
    {
     "data": {
      "text/html": [
       "<div>\n",
       "<style scoped>\n",
       "    .dataframe tbody tr th:only-of-type {\n",
       "        vertical-align: middle;\n",
       "    }\n",
       "\n",
       "    .dataframe tbody tr th {\n",
       "        vertical-align: top;\n",
       "    }\n",
       "\n",
       "    .dataframe thead th {\n",
       "        text-align: right;\n",
       "    }\n",
       "</style>\n",
       "<table border=\"1\" class=\"dataframe\">\n",
       "  <thead>\n",
       "    <tr style=\"text-align: right;\">\n",
       "      <th></th>\n",
       "      <th>0</th>\n",
       "      <th>1</th>\n",
       "      <th>2</th>\n",
       "      <th>3</th>\n",
       "      <th>4</th>\n",
       "      <th>5</th>\n",
       "      <th>6</th>\n",
       "      <th>7</th>\n",
       "      <th>8</th>\n",
       "      <th>9</th>\n",
       "      <th>...</th>\n",
       "      <th>54</th>\n",
       "      <th>55</th>\n",
       "      <th>56</th>\n",
       "      <th>57</th>\n",
       "      <th>58</th>\n",
       "      <th>59</th>\n",
       "      <th>60</th>\n",
       "      <th>61</th>\n",
       "      <th>62</th>\n",
       "      <th>63</th>\n",
       "    </tr>\n",
       "  </thead>\n",
       "  <tbody>\n",
       "    <tr>\n",
       "      <th>0</th>\n",
       "      <td>0.0</td>\n",
       "      <td>0.0</td>\n",
       "      <td>5.0</td>\n",
       "      <td>13.0</td>\n",
       "      <td>9.0</td>\n",
       "      <td>1.0</td>\n",
       "      <td>0.0</td>\n",
       "      <td>0.0</td>\n",
       "      <td>0.0</td>\n",
       "      <td>0.0</td>\n",
       "      <td>...</td>\n",
       "      <td>0.0</td>\n",
       "      <td>0.0</td>\n",
       "      <td>0.0</td>\n",
       "      <td>0.0</td>\n",
       "      <td>6.0</td>\n",
       "      <td>13.0</td>\n",
       "      <td>10.0</td>\n",
       "      <td>0.0</td>\n",
       "      <td>0.0</td>\n",
       "      <td>0.0</td>\n",
       "    </tr>\n",
       "    <tr>\n",
       "      <th>1</th>\n",
       "      <td>0.0</td>\n",
       "      <td>0.0</td>\n",
       "      <td>0.0</td>\n",
       "      <td>12.0</td>\n",
       "      <td>13.0</td>\n",
       "      <td>5.0</td>\n",
       "      <td>0.0</td>\n",
       "      <td>0.0</td>\n",
       "      <td>0.0</td>\n",
       "      <td>0.0</td>\n",
       "      <td>...</td>\n",
       "      <td>0.0</td>\n",
       "      <td>0.0</td>\n",
       "      <td>0.0</td>\n",
       "      <td>0.0</td>\n",
       "      <td>0.0</td>\n",
       "      <td>11.0</td>\n",
       "      <td>16.0</td>\n",
       "      <td>10.0</td>\n",
       "      <td>0.0</td>\n",
       "      <td>0.0</td>\n",
       "    </tr>\n",
       "    <tr>\n",
       "      <th>2</th>\n",
       "      <td>0.0</td>\n",
       "      <td>0.0</td>\n",
       "      <td>0.0</td>\n",
       "      <td>4.0</td>\n",
       "      <td>15.0</td>\n",
       "      <td>12.0</td>\n",
       "      <td>0.0</td>\n",
       "      <td>0.0</td>\n",
       "      <td>0.0</td>\n",
       "      <td>0.0</td>\n",
       "      <td>...</td>\n",
       "      <td>5.0</td>\n",
       "      <td>0.0</td>\n",
       "      <td>0.0</td>\n",
       "      <td>0.0</td>\n",
       "      <td>0.0</td>\n",
       "      <td>3.0</td>\n",
       "      <td>11.0</td>\n",
       "      <td>16.0</td>\n",
       "      <td>9.0</td>\n",
       "      <td>0.0</td>\n",
       "    </tr>\n",
       "    <tr>\n",
       "      <th>3</th>\n",
       "      <td>0.0</td>\n",
       "      <td>0.0</td>\n",
       "      <td>7.0</td>\n",
       "      <td>15.0</td>\n",
       "      <td>13.0</td>\n",
       "      <td>1.0</td>\n",
       "      <td>0.0</td>\n",
       "      <td>0.0</td>\n",
       "      <td>0.0</td>\n",
       "      <td>8.0</td>\n",
       "      <td>...</td>\n",
       "      <td>9.0</td>\n",
       "      <td>0.0</td>\n",
       "      <td>0.0</td>\n",
       "      <td>0.0</td>\n",
       "      <td>7.0</td>\n",
       "      <td>13.0</td>\n",
       "      <td>13.0</td>\n",
       "      <td>9.0</td>\n",
       "      <td>0.0</td>\n",
       "      <td>0.0</td>\n",
       "    </tr>\n",
       "    <tr>\n",
       "      <th>4</th>\n",
       "      <td>0.0</td>\n",
       "      <td>0.0</td>\n",
       "      <td>0.0</td>\n",
       "      <td>1.0</td>\n",
       "      <td>11.0</td>\n",
       "      <td>0.0</td>\n",
       "      <td>0.0</td>\n",
       "      <td>0.0</td>\n",
       "      <td>0.0</td>\n",
       "      <td>0.0</td>\n",
       "      <td>...</td>\n",
       "      <td>0.0</td>\n",
       "      <td>0.0</td>\n",
       "      <td>0.0</td>\n",
       "      <td>0.0</td>\n",
       "      <td>0.0</td>\n",
       "      <td>2.0</td>\n",
       "      <td>16.0</td>\n",
       "      <td>4.0</td>\n",
       "      <td>0.0</td>\n",
       "      <td>0.0</td>\n",
       "    </tr>\n",
       "  </tbody>\n",
       "</table>\n",
       "<p>5 rows × 64 columns</p>\n",
       "</div>"
      ],
      "text/plain": [
       "    0    1    2     3     4     5    6    7    8    9   ...   54   55   56  \\\n",
       "0  0.0  0.0  5.0  13.0   9.0   1.0  0.0  0.0  0.0  0.0  ...  0.0  0.0  0.0   \n",
       "1  0.0  0.0  0.0  12.0  13.0   5.0  0.0  0.0  0.0  0.0  ...  0.0  0.0  0.0   \n",
       "2  0.0  0.0  0.0   4.0  15.0  12.0  0.0  0.0  0.0  0.0  ...  5.0  0.0  0.0   \n",
       "3  0.0  0.0  7.0  15.0  13.0   1.0  0.0  0.0  0.0  8.0  ...  9.0  0.0  0.0   \n",
       "4  0.0  0.0  0.0   1.0  11.0   0.0  0.0  0.0  0.0  0.0  ...  0.0  0.0  0.0   \n",
       "\n",
       "    57   58    59    60    61   62   63  \n",
       "0  0.0  6.0  13.0  10.0   0.0  0.0  0.0  \n",
       "1  0.0  0.0  11.0  16.0  10.0  0.0  0.0  \n",
       "2  0.0  0.0   3.0  11.0  16.0  9.0  0.0  \n",
       "3  0.0  7.0  13.0  13.0   9.0  0.0  0.0  \n",
       "4  0.0  0.0   2.0  16.0   4.0  0.0  0.0  \n",
       "\n",
       "[5 rows x 64 columns]"
      ]
     },
     "execution_count": 31,
     "metadata": {},
     "output_type": "execute_result"
    }
   ],
   "source": [
    "df.head()"
   ]
  },
  {
   "cell_type": "code",
   "execution_count": 34,
   "id": "d268c1fa-9039-420b-b8d3-a4290fe1a508",
   "metadata": {},
   "outputs": [],
   "source": [
    "A=np.reshape(df.iloc[0],(8,8))"
   ]
  },
  {
   "cell_type": "code",
   "execution_count": 35,
   "id": "856db51c-c085-4391-83b1-0d9f5c2c789f",
   "metadata": {},
   "outputs": [
    {
     "data": {
      "text/plain": [
       "array([[ 0.,  0.,  5., 13.,  9.,  1.,  0.,  0.],\n",
       "       [ 0.,  0., 13., 15., 10., 15.,  5.,  0.],\n",
       "       [ 0.,  3., 15.,  2.,  0., 11.,  8.,  0.],\n",
       "       [ 0.,  4., 12.,  0.,  0.,  8.,  8.,  0.],\n",
       "       [ 0.,  5.,  8.,  0.,  0.,  9.,  8.,  0.],\n",
       "       [ 0.,  4., 11.,  0.,  1., 12.,  7.,  0.],\n",
       "       [ 0.,  2., 14.,  5., 10., 12.,  0.,  0.],\n",
       "       [ 0.,  0.,  6., 13., 10.,  0.,  0.,  0.]])"
      ]
     },
     "execution_count": 35,
     "metadata": {},
     "output_type": "execute_result"
    }
   ],
   "source": [
    "A"
   ]
  },
  {
   "cell_type": "code",
   "execution_count": 36,
   "id": "6832556b-a56a-446b-b7c0-d746946b6df2",
   "metadata": {},
   "outputs": [
    {
     "data": {
      "text/plain": [
       "<matplotlib.image.AxesImage at 0x2511b210a40>"
      ]
     },
     "execution_count": 36,
     "metadata": {},
     "output_type": "execute_result"
    },
    {
     "data": {
      "image/png": "[encoded data removed]",
      "text/plain": [
       "<Figure size 640x480 with 1 Axes>"
      ]
     },
     "metadata": {},
     "output_type": "display_data"
    }
   ],
   "source": [
    "plt.imshow(A)"
   ]
  },
  {
   "cell_type": "code",
   "execution_count": 43,
   "id": "a3c82603-e228-49f9-8d89-ec2a0ed5efe3",
   "metadata": {},
   "outputs": [],
   "source": [
    "ypred=Model.predict([df.iloc[89]])"
   ]
  },
  {
   "cell_type": "code",
   "execution_count": 44,
   "id": "74e07f3d-75ff-4af9-8c68-61468c0afa4e",
   "metadata": {},
   "outputs": [
    {
     "data": {
      "text/plain": [
       "array([3])"
      ]
     },
     "execution_count": 44,
     "metadata": {},
     "output_type": "execute_result"
    }
   ],
   "source": [
    "ypred"
   ]
  },
  {
   "cell_type": "code",
   "execution_count": 45,
   "id": "6606a464-02c0-4477-9e21-ae6347bd47d5",
   "metadata": {},
   "outputs": [
    {
     "ename": "ModuleNotFoundError",
     "evalue": "No module named 'cv2'",
     "output_type": "error",
     "traceback": [
      "\u001b[1;31m---------------------------------------------------------------------------\u001b[0m",
      "\u001b[1;31mModuleNotFoundError\u001b[0m                       Traceback (most recent call last)",
      "Cell \u001b[1;32mIn[45], line 1\u001b[0m\n\u001b[1;32m----> 1\u001b[0m \u001b[38;5;28;01mimport\u001b[39;00m \u001b[38;5;21;01mcv2\u001b[39;00m \u001b[38;5;28;01mas\u001b[39;00m \u001b[38;5;21;01mcv\u001b[39;00m\n",
      "\u001b[1;31mModuleNotFoundError\u001b[0m: No module named 'cv2'"
     ]
    }
   ],
   "source": [
    "import cv2 as cv"
   ]
  },
  {
   "cell_type": "code",
   "execution_count": 47,
   "id": "ee99cb77-33be-4673-9667-99f535dc84cd",
   "metadata": {},
   "outputs": [
    {
     "name": "stdout",
     "output_type": "stream",
     "text": [
      "Collecting opencv-pythonNote: you may need to restart the kernel to use updated packages.\n",
      "\n",
      "  Obtaining dependency information for opencv-python from https://files.pythonhosted.org/packages/c7/ec/9dabb6a9abfdebb3c45b0cc52dec901caafef2b2c7e7d6a839ed86d81e91/opencv_python-4.9.0.80-cp37-abi3-win_amd64.whl.metadata\n",
      "  Downloading opencv_python-4.9.0.80-cp37-abi3-win_amd64.whl.metadata (20 kB)\n",
      "Requirement already satisfied: numpy>=1.21.2 in c:\\users\\deshm\\appdata\\local\\programs\\python\\python312\\lib\\site-packages (from opencv-python) (1.26.2)\n",
      "Downloading opencv_python-4.9.0.80-cp37-abi3-win_amd64.whl (38.6 MB)\n",
      "   ---------------------------------------- 0.0/38.6 MB ? eta -:--:--\n",
      "   ---------------------------------------- 0.0/38.6 MB 653.6 kB/s eta 0:01:00\n",
      "   ---------------------------------------- 0.3/38.6 MB 3.2 MB/s eta 0:00:13\n",
      "    --------------------------------------- 0.8/38.6 MB 6.0 MB/s eta 0:00:07\n",
      "   - -------------------------------------- 1.4/38.6 MB 7.6 MB/s eta 0:00:05\n",
      "   -- ------------------------------------- 2.0/38.6 MB 8.5 MB/s eta 0:00:05\n",
      "   -- ------------------------------------- 2.6/38.6 MB 9.1 MB/s eta 0:00:04\n",
      "   --- ------------------------------------ 3.1/38.6 MB 9.5 MB/s eta 0:00:04\n",
      "   --- ------------------------------------ 3.7/38.6 MB 9.7 MB/s eta 0:00:04\n",
      "   ---- ----------------------------------- 4.2/38.6 MB 9.6 MB/s eta 0:00:04\n",
      "   ---- ----------------------------------- 4.7/38.6 MB 9.6 MB/s eta 0:00:04\n",
      "   ----- ---------------------------------- 5.0/38.6 MB 10.1 MB/s eta 0:00:04\n",
      "   ----- ---------------------------------- 5.7/38.6 MB 10.2 MB/s eta 0:00:04\n",
      "   ------ --------------------------------- 6.3/38.6 MB 10.4 MB/s eta 0:00:04\n",
      "   ------ --------------------------------- 6.5/38.6 MB 9.9 MB/s eta 0:00:04\n",
      "   ------- -------------------------------- 7.0/38.6 MB 10.2 MB/s eta 0:00:04\n",
      "   ------- -------------------------------- 7.7/38.6 MB 10.3 MB/s eta 0:00:04\n",
      "   -------- ------------------------------- 8.2/38.6 MB 10.0 MB/s eta 0:00:04\n",
      "   -------- ------------------------------- 8.5/38.6 MB 10.0 MB/s eta 0:00:04\n",
      "   -------- ------------------------------- 8.5/38.6 MB 9.5 MB/s eta 0:00:04\n",
      "   -------- ------------------------------- 8.7/38.6 MB 9.2 MB/s eta 0:00:04\n",
      "   --------- ------------------------------ 9.0/38.6 MB 9.0 MB/s eta 0:00:04\n",
      "   --------- ------------------------------ 9.6/38.6 MB 9.1 MB/s eta 0:00:04\n",
      "   ---------- ----------------------------- 10.1/38.6 MB 9.2 MB/s eta 0:00:04\n",
      "   ---------- ----------------------------- 10.5/38.6 MB 9.8 MB/s eta 0:00:03\n",
      "   ----------- ---------------------------- 11.0/38.6 MB 9.8 MB/s eta 0:00:03\n",
      "   ----------- ---------------------------- 11.6/38.6 MB 9.8 MB/s eta 0:00:03\n",
      "   ------------ --------------------------- 12.1/38.6 MB 9.6 MB/s eta 0:00:03\n",
      "   ------------ --------------------------- 12.5/38.6 MB 9.6 MB/s eta 0:00:03\n",
      "   ------------- -------------------------- 12.9/38.6 MB 9.5 MB/s eta 0:00:03\n",
      "   ------------- -------------------------- 13.3/38.6 MB 9.4 MB/s eta 0:00:03\n",
      "   -------------- ------------------------- 13.8/38.6 MB 9.4 MB/s eta 0:00:03\n",
      "   -------------- ------------------------- 14.3/38.6 MB 9.2 MB/s eta 0:00:03\n",
      "   --------------- ------------------------ 14.7/38.6 MB 9.2 MB/s eta 0:00:03\n",
      "   --------------- ------------------------ 15.1/38.6 MB 9.1 MB/s eta 0:00:03\n",
      "   --------------- ------------------------ 15.4/38.6 MB 9.2 MB/s eta 0:00:03\n",
      "   ---------------- ----------------------- 15.7/38.6 MB 8.8 MB/s eta 0:00:03\n",
      "   ---------------- ----------------------- 16.1/38.6 MB 8.8 MB/s eta 0:00:03\n",
      "   ----------------- ---------------------- 16.6/38.6 MB 8.8 MB/s eta 0:00:03\n",
      "   ----------------- ---------------------- 17.2/38.6 MB 8.8 MB/s eta 0:00:03\n",
      "   ------------------ --------------------- 17.6/38.6 MB 9.0 MB/s eta 0:00:03\n",
      "   ------------------ --------------------- 17.8/38.6 MB 8.8 MB/s eta 0:00:03\n",
      "   ------------------ --------------------- 18.1/38.6 MB 8.6 MB/s eta 0:00:03\n",
      "   ------------------- -------------------- 18.5/38.6 MB 8.5 MB/s eta 0:00:03\n",
      "   ------------------- -------------------- 19.1/38.6 MB 9.2 MB/s eta 0:00:03\n",
      "   -------------------- ------------------- 19.4/38.6 MB 9.1 MB/s eta 0:00:03\n",
      "   -------------------- ------------------- 19.9/38.6 MB 9.2 MB/s eta 0:00:03\n",
      "   --------------------- ------------------ 20.4/38.6 MB 9.1 MB/s eta 0:00:03\n",
      "   --------------------- ------------------ 20.8/38.6 MB 9.4 MB/s eta 0:00:02\n",
      "   --------------------- ------------------ 21.2/38.6 MB 9.0 MB/s eta 0:00:02\n",
      "   ---------------------- ----------------- 21.6/38.6 MB 9.0 MB/s eta 0:00:02\n",
      "   ---------------------- ----------------- 22.1/38.6 MB 9.0 MB/s eta 0:00:02\n",
      "   ----------------------- ---------------- 22.5/38.6 MB 9.0 MB/s eta 0:00:02\n",
      "   ----------------------- ---------------- 22.9/38.6 MB 9.0 MB/s eta 0:00:02\n",
      "   ------------------------ --------------- 23.4/38.6 MB 9.1 MB/s eta 0:00:02\n",
      "   ------------------------ --------------- 23.8/38.6 MB 9.0 MB/s eta 0:00:02\n",
      "   ------------------------ --------------- 24.1/38.6 MB 9.0 MB/s eta 0:00:02\n",
      "   ------------------------- -------------- 24.5/38.6 MB 8.7 MB/s eta 0:00:02\n",
      "   ------------------------- -------------- 24.8/38.6 MB 8.6 MB/s eta 0:00:02\n",
      "   -------------------------- ------------- 25.3/38.6 MB 8.7 MB/s eta 0:00:02\n",
      "   -------------------------- ------------- 25.7/38.6 MB 8.8 MB/s eta 0:00:02\n",
      "   -------------------------- ------------- 25.9/38.6 MB 8.7 MB/s eta 0:00:02\n",
      "   --------------------------- ------------ 26.5/38.6 MB 8.6 MB/s eta 0:00:02\n",
      "   --------------------------- ------------ 26.9/38.6 MB 8.6 MB/s eta 0:00:02\n",
      "   ---------------------------- ----------- 27.2/38.6 MB 8.6 MB/s eta 0:00:02\n",
      "   ---------------------------- ----------- 27.6/38.6 MB 8.6 MB/s eta 0:00:02\n",
      "   ----------------------------- ---------- 28.1/38.6 MB 8.7 MB/s eta 0:00:02\n",
      "   ----------------------------- ---------- 28.5/38.6 MB 8.7 MB/s eta 0:00:02\n",
      "   ------------------------------ --------- 29.0/38.6 MB 8.7 MB/s eta 0:00:02\n",
      "   ------------------------------ --------- 29.5/38.6 MB 8.7 MB/s eta 0:00:02\n",
      "   ------------------------------- -------- 29.9/38.6 MB 8.8 MB/s eta 0:00:01\n",
      "   ------------------------------- -------- 30.4/38.6 MB 8.7 MB/s eta 0:00:01\n",
      "   ------------------------------- -------- 30.9/38.6 MB 8.8 MB/s eta 0:00:01\n",
      "   -------------------------------- ------- 31.3/38.6 MB 8.8 MB/s eta 0:00:01\n",
      "   -------------------------------- ------- 31.7/38.6 MB 8.8 MB/s eta 0:00:01\n",
      "   --------------------------------- ------ 32.0/38.6 MB 8.7 MB/s eta 0:00:01\n",
      "   --------------------------------- ------ 32.5/38.6 MB 8.7 MB/s eta 0:00:01\n",
      "   ---------------------------------- ----- 32.9/38.6 MB 8.7 MB/s eta 0:00:01\n",
      "   ---------------------------------- ----- 33.3/38.6 MB 8.7 MB/s eta 0:00:01\n",
      "   ----------------------------------- ---- 33.9/38.6 MB 8.7 MB/s eta 0:00:01\n",
      "   ----------------------------------- ---- 34.3/38.6 MB 9.0 MB/s eta 0:00:01\n",
      "   ------------------------------------ --- 34.8/38.6 MB 9.0 MB/s eta 0:00:01\n",
      "   ------------------------------------ --- 35.2/38.6 MB 9.1 MB/s eta 0:00:01\n",
      "   ------------------------------------ --- 35.6/38.6 MB 9.1 MB/s eta 0:00:01\n",
      "   ------------------------------------- -- 36.0/38.6 MB 9.1 MB/s eta 0:00:01\n",
      "   ------------------------------------- -- 36.6/38.6 MB 9.2 MB/s eta 0:00:01\n",
      "   -------------------------------------- - 37.0/38.6 MB 9.2 MB/s eta 0:00:01\n",
      "   -------------------------------------- - 37.5/38.6 MB 9.4 MB/s eta 0:00:01\n",
      "   ---------------------------------------  38.0/38.6 MB 9.5 MB/s eta 0:00:01\n",
      "   ---------------------------------------  38.5/38.6 MB 9.5 MB/s eta 0:00:01\n",
      "   ---------------------------------------  38.6/38.6 MB 9.5 MB/s eta 0:00:01\n",
      "   ---------------------------------------  38.6/38.6 MB 9.5 MB/s eta 0:00:01\n",
      "   ---------------------------------------  38.6/38.6 MB 9.5 MB/s eta 0:00:01\n",
      "   ---------------------------------------  38.6/38.6 MB 9.5 MB/s eta 0:00:01\n",
      "   ---------------------------------------- 38.6/38.6 MB 7.9 MB/s eta 0:00:00\n",
      "Installing collected packages: opencv-python\n",
      "Successfully installed opencv-python-4.9.0.80\n"
     ]
    },
    {
     "name": "stderr",
     "output_type": "stream",
     "text": [
      "\n",
      "[notice] A new release of pip is available: 23.2.1 -> 24.0\n",
      "[notice] To update, run: python.exe -m pip install --upgrade pip\n"
     ]
    }
   ],
   "source": [
    "pip install opencv-python"
   ]
  },
  {
   "cell_type": "code",
   "execution_count": 48,
   "id": "580cd86a-fb78-465b-9cfe-6f1b6e39d713",
   "metadata": {},
   "outputs": [],
   "source": [
    "import cv2 as cv"
   ]
  },
  {
   "cell_type": "code",
   "execution_count": 50,
   "id": "de3bd2b4-785e-4e84-a69e-c78a5ae5af46",
   "metadata": {},
   "outputs": [],
   "source": [
    "i1=cv.imread(r\"C:\\Users\\deshm\\OneDrive\\Desktop\\DA\\pic.PNG\")"
   ]
  },
  {
   "cell_type": "code",
   "execution_count": 54,
   "id": "188a521d-f8c1-4d4d-b62d-1298f062d2ea",
   "metadata": {},
   "outputs": [],
   "source": [
    "i1=i1[:,:,1]"
   ]
  },
  {
   "cell_type": "code",
   "execution_count": 55,
   "id": "8614eefd-4242-4d9f-81c4-fab787a4e69b",
   "metadata": {},
   "outputs": [
    {
     "data": {
      "text/plain": [
       "array([[255, 255, 255, 255, 255, 255, 255, 255],\n",
       "       [255, 255, 254, 255, 255, 255, 255, 255],\n",
       "       [255, 247, 231, 233, 251, 255, 255, 255],\n",
       "       [255, 248, 252, 239, 247, 255, 255, 255],\n",
       "       [255, 255, 255, 235, 255, 255, 255, 255],\n",
       "       [255, 255, 237, 221, 239, 239, 242, 255],\n",
       "       [255, 255, 253, 252, 250, 249, 251, 255],\n",
       "       [255, 255, 255, 255, 255, 255, 255, 255]], dtype=uint8)"
      ]
     },
     "execution_count": 55,
     "metadata": {},
     "output_type": "execute_result"
    }
   ],
   "source": [
    "i1"
   ]
  },
  {
   "cell_type": "code",
   "execution_count": 57,
   "id": "e5b40ccf-d572-41c9-8da9-12f1141604bb",
   "metadata": {},
   "outputs": [],
   "source": [
    "i1=i1//15"
   ]
  },
  {
   "cell_type": "code",
   "execution_count": 65,
   "id": "661d560f-4a0f-400a-818a-311de7aae93c",
   "metadata": {},
   "outputs": [
    {
     "data": {
      "text/plain": [
       "array([[13, 13, 13, 13, 13, 13, 13, 13],\n",
       "       [13, 13, 12, 13, 13, 13, 13, 13],\n",
       "       [13, 12, 11, 11, 12, 13, 13, 13],\n",
       "       [13, 12, 12, 11, 12, 13, 13, 13],\n",
       "       [13, 13, 13, 11, 13, 13, 13, 13],\n",
       "       [13, 13, 11, 10, 11, 11, 12, 13],\n",
       "       [13, 13, 12, 12, 12, 12, 12, 13],\n",
       "       [13, 13, 13, 13, 13, 13, 13, 13]], dtype=uint8)"
      ]
     },
     "execution_count": 65,
     "metadata": {},
     "output_type": "execute_result"
    }
   ],
   "source": [
    "i1=i1-1\n",
    "i1"
   ]
  },
  {
   "cell_type": "code",
   "execution_count": 68,
   "id": "e33b4178-85c7-42dc-b795-c4d834fdc1a7",
   "metadata": {},
   "outputs": [
    {
     "data": {
      "text/plain": [
       "array([2])"
      ]
     },
     "execution_count": 68,
     "metadata": {},
     "output_type": "execute_result"
    }
   ],
   "source": [
    "Model.predict(np.reshape(i1,(1,64)))"
   ]
  },
  {
   "cell_type": "code",
   "execution_count": 77,
   "id": "c81e6a2d-00d0-4f79-8178-3672f6941098",
   "metadata": {},
   "outputs": [
    {
     "data": {
      "image/png": "[encoded data removed]",
      "text/plain": [
       "<Figure size 640x480 with 2 Axes>"
      ]
     },
     "metadata": {},
     "output_type": "display_data"
    },
    {
     "ename": "TypeError",
     "evalue": "heatmap() missing 1 required positional argument: 'data'",
     "output_type": "error",
     "traceback": [
      "\u001b[1;31m---------------------------------------------------------------------------\u001b[0m",
      "\u001b[1;31mTypeError\u001b[0m                                 Traceback (most recent call last)",
      "Cell \u001b[1;32mIn[77], line 4\u001b[0m\n\u001b[0;32m      2\u001b[0m sns\u001b[38;5;241m.\u001b[39mheatmap(confusion_matrix(yte,ypred1),annot\u001b[38;5;241m=\u001b[39m\u001b[38;5;28;01mTrue\u001b[39;00m)\n\u001b[0;32m      3\u001b[0m plt\u001b[38;5;241m.\u001b[39mshow()\n\u001b[1;32m----> 4\u001b[0m \u001b[43msns\u001b[49m\u001b[38;5;241;43m.\u001b[39;49m\u001b[43mheatmap\u001b[49m\u001b[43m(\u001b[49m\u001b[43m)\u001b[49m\n",
      "\u001b[1;31mTypeError\u001b[0m: heatmap() missing 1 required positional argument: 'data'"
     ]
    }
   ],
   "source": [
    "confusion_matrix(yte,ypred1)\n",
    "sns.heatmap(confusion_matrix(yte,ypred1),annot=True)\n",
    "plt.show()\n",
    "sns.heatmap()"
   ]
  },
  {
   "cell_type": "code",
   "execution_count": null,
   "id": "2366d798-4230-47a0-845b-fd264ac7d965",
   "metadata": {},
   "outputs": [],
   "source": []
  }
 ],
 "metadata": {
  "kernelspec": {
   "display_name": "Python 3 (ipykernel)",
   "language": "python",
   "name": "python3"
  },
  "language_info": {
   "codemirror_mode": {
    "name": "ipython",
    "version": 3
   },
   "file_extension": ".py",
   "mimetype": "text/x-python",
   "name": "python",
   "nbconvert_exporter": "python",
   "pygments_lexer": "ipython3",
   "version": "3.12.0"
  }
 },
 "nbformat": 4,
 "nbformat_minor": 5
}
